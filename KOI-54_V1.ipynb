{
 "cells": [
  {
   "cell_type": "code",
   "execution_count": 1,
   "metadata": {},
   "outputs": [],
   "source": [
    "import phoebe\n",
    "from phoebe import u # units\n",
    "import numpy as np\n",
    "import matplotlib.pyplot as plt\n",
    "\n",
    "logger = phoebe.logger()\n",
    "\n",
    "b = phoebe.default_binary()"
   ]
  },
  {
   "cell_type": "code",
   "execution_count": 2,
   "metadata": {},
   "outputs": [
    {
     "name": "stdout",
     "output_type": "stream",
     "text": [
      "ParameterSet: 29 parameters\n",
      "            times@KOI_lc@dataset: [0.         0.00775194 0.01550388 ... 0.98449612\n",
      " 0.99224806 1.        ] d\n",
      "           fluxes@KOI_lc@dataset: [] W / m2\n",
      "         passband@KOI_lc@dataset: Johnson:V\n",
      "  intens_weighting@KOI_lc@dat...: energy\n",
      "*             ebv@KOI_lc@dataset: 0.0\n",
      "               Av@KOI_lc@dataset: 0.0\n",
      "               Rv@KOI_lc@dataset: 3.1\n",
      "    compute_times@KOI_lc@dataset: [] d\n",
      "*  compute_phases@KOI_lc@dataset: []\n",
      "  compute_phases_t0@KOI_lc@da...: t0_supconj\n",
      "           sigmas@KOI_lc@dataset: [] W / m2\n",
      "       pblum_mode@KOI_lc@dataset: component-coupled\n",
      "  pblum_component@KOI_lc@dataset: primary\n",
      "    pblum_dataset@KOI_lc@dataset: \n",
      "           pbflux@KOI_lc@dataset: 1.0 W / m2\n",
      "          l3_mode@KOI_lc@dataset: flux\n",
      "               l3@KOI_lc@dataset: 0.0 W / m2\n",
      "          l3_frac@KOI_lc@dataset: 0.0\n",
      "          exptime@KOI_lc@dataset: 0.0 s\n",
      "  ld_mode@primary@KOI_lc@dataset: interp\n",
      "  ld_mode@secondary@KOI_lc@da...: interp\n",
      "  ld_func@primary@KOI_lc@dataset: logarithmic\n",
      "  ld_func@secondary@KOI_lc@da...: logarithmic\n",
      "  ld_coeffs_source@primary@KO...: auto\n",
      "  ld_coeffs_source@secondary@...: auto\n",
      "  ld_coeffs@primary@KOI_lc@da...: [0.5 0.5]\n",
      "  ld_coeffs@secondary@KOI_lc@...: [0.5 0.5]\n",
      "    pblum@primary@KOI_lc@dataset: 12.566370614359172 W\n",
      "  pblum@secondary@KOI_lc@dataset: 12.566370614359172 W\n"
     ]
    }
   ],
   "source": [
    "# Add a 'light-curve(lc)' dataset to the bundle. \n",
    "\n",
    "b.add_dataset('lc', times = np.linspace(0,1,130), dataset = 'KOI_lc')\n",
    "print(b.get_dataset(kind = 'lc', check_visible = False))"
   ]
  },
  {
   "cell_type": "code",
   "execution_count": 3,
   "metadata": {},
   "outputs": [
    {
     "data": {
      "text/plain": [
       "<ParameterSet: 4 parameters | contexts: model, figure>"
      ]
     },
     "execution_count": 3,
     "metadata": {},
     "output_type": "execute_result"
    }
   ],
   "source": [
    "# Computation method given in paper = 'Wilson'\n",
    "\n",
    "#b.run_compute(irrad_method = 'wilson')"
   ]
  },
  {
   "cell_type": "code",
   "execution_count": 7,
   "metadata": {},
   "outputs": [
    {
     "name": "stderr",
     "output_type": "stream",
     "text": [
      "Wed, 24 Mar 2021 19:28 BUNDLE       WARNING 'primary' probably has a radiative atm (teff=8498K>8000K), for which gravb_bol>=0.9 might be a better approx than gravb_bol=0.32.\n",
      "Wed, 24 Mar 2021 19:28 BUNDLE       WARNING 'secondary' probably has a radiative atm (teff=8667K>8000K), for which gravb_bol>=0.9 might be a better approx than gravb_bol=0.32.\n",
      "Wed, 24 Mar 2021 19:28 BUNDLE       WARNING 'primary' probably has a radiative atm (teff=8498K>=8000K), for which irrad_frac_refl_bol>0.8 (suggestion: 1.0) might be a better approx than irrad_frac_refl_bol=0.60.\n",
      "Wed, 24 Mar 2021 19:28 BUNDLE       WARNING 'secondary' probably has a radiative atm (teff=8667K>=8000K), for which irrad_frac_refl_bol>0.8 (suggestion: 1.0) might be a better approx than irrad_frac_refl_bol=0.60.\n",
      "Wed, 24 Mar 2021 19:28 BUNDLE       WARNING 'primary' probably has a radiative atm (teff=8498K>8000K), for which gravb_bol>=0.9 might be a better approx than gravb_bol=0.32.\n",
      "Wed, 24 Mar 2021 19:28 BUNDLE       WARNING 'secondary' probably has a radiative atm (teff=8667K>8000K), for which gravb_bol>=0.9 might be a better approx than gravb_bol=0.32.\n",
      "Wed, 24 Mar 2021 19:28 BUNDLE       WARNING 'primary' probably has a radiative atm (teff=8498K>=8000K), for which irrad_frac_refl_bol>0.8 (suggestion: 1.0) might be a better approx than irrad_frac_refl_bol=0.60.\n",
      "Wed, 24 Mar 2021 19:28 BUNDLE       WARNING 'secondary' probably has a radiative atm (teff=8667K>=8000K), for which irrad_frac_refl_bol>0.8 (suggestion: 1.0) might be a better approx than irrad_frac_refl_bol=0.60.\n",
      "Wed, 24 Mar 2021 19:28 BUNDLE       WARNING 'primary' probably has a radiative atm (teff=8498K>8000K), for which gravb_bol>=0.9 might be a better approx than gravb_bol=0.32.\n",
      "Wed, 24 Mar 2021 19:28 BUNDLE       WARNING 'secondary' probably has a radiative atm (teff=8667K>8000K), for which gravb_bol>=0.9 might be a better approx than gravb_bol=0.32.\n",
      "Wed, 24 Mar 2021 19:28 BUNDLE       WARNING 'primary' probably has a radiative atm (teff=8498K>=8000K), for which irrad_frac_refl_bol>0.8 (suggestion: 1.0) might be a better approx than irrad_frac_refl_bol=0.60.\n",
      "Wed, 24 Mar 2021 19:28 BUNDLE       WARNING 'secondary' probably has a radiative atm (teff=8667K>=8000K), for which irrad_frac_refl_bol>0.8 (suggestion: 1.0) might be a better approx than irrad_frac_refl_bol=0.60.\n",
      "Wed, 24 Mar 2021 19:28 BUNDLE       WARNING 'primary' probably has a radiative atm (teff=8498K>8000K), for which gravb_bol>=0.9 might be a better approx than gravb_bol=0.32.\n",
      "Wed, 24 Mar 2021 19:28 BUNDLE       WARNING 'secondary' probably has a radiative atm (teff=8667K>8000K), for which gravb_bol>=0.9 might be a better approx than gravb_bol=0.32.\n",
      "Wed, 24 Mar 2021 19:28 BUNDLE       WARNING 'primary' probably has a radiative atm (teff=8498K>=8000K), for which irrad_frac_refl_bol>0.8 (suggestion: 1.0) might be a better approx than irrad_frac_refl_bol=0.60.\n",
      "Wed, 24 Mar 2021 19:28 BUNDLE       WARNING 'secondary' probably has a radiative atm (teff=8667K>=8000K), for which irrad_frac_refl_bol>0.8 (suggestion: 1.0) might be a better approx than irrad_frac_refl_bol=0.60.\n",
      "Wed, 24 Mar 2021 19:28 BUNDLE       WARNING 'primary' probably has a radiative atm (teff=8498K>8000K), for which gravb_bol>=0.9 might be a better approx than gravb_bol=0.32.\n",
      "Wed, 24 Mar 2021 19:28 BUNDLE       WARNING 'secondary' probably has a radiative atm (teff=8667K>8000K), for which gravb_bol>=0.9 might be a better approx than gravb_bol=0.32.\n",
      "Wed, 24 Mar 2021 19:28 BUNDLE       WARNING 'primary' probably has a radiative atm (teff=8498K>=8000K), for which irrad_frac_refl_bol>0.8 (suggestion: 1.0) might be a better approx than irrad_frac_refl_bol=0.60.\n",
      "Wed, 24 Mar 2021 19:28 BUNDLE       WARNING 'secondary' probably has a radiative atm (teff=8667K>=8000K), for which irrad_frac_refl_bol>0.8 (suggestion: 1.0) might be a better approx than irrad_frac_refl_bol=0.60.\n",
      "Wed, 24 Mar 2021 19:28 BUNDLE       WARNING 'primary' probably has a radiative atm (teff=8498K>8000K), for which gravb_bol>=0.9 might be a better approx than gravb_bol=0.32.\n",
      "Wed, 24 Mar 2021 19:28 BUNDLE       WARNING 'secondary' probably has a radiative atm (teff=8667K>8000K), for which gravb_bol>=0.9 might be a better approx than gravb_bol=0.32.\n",
      "Wed, 24 Mar 2021 19:28 BUNDLE       WARNING 'primary' probably has a radiative atm (teff=8498K>=8000K), for which irrad_frac_refl_bol>0.8 (suggestion: 1.0) might be a better approx than irrad_frac_refl_bol=0.60.\n",
      "Wed, 24 Mar 2021 19:28 BUNDLE       WARNING 'secondary' probably has a radiative atm (teff=8667K>=8000K), for which irrad_frac_refl_bol>0.8 (suggestion: 1.0) might be a better approx than irrad_frac_refl_bol=0.60.\n",
      "Wed, 24 Mar 2021 19:28 BUNDLE       WARNING 'primary' probably has a radiative atm (teff=8498K>8000K), for which gravb_bol>=0.9 might be a better approx than gravb_bol=0.32.\n",
      "Wed, 24 Mar 2021 19:28 BUNDLE       WARNING 'secondary' probably has a radiative atm (teff=8667K>8000K), for which gravb_bol>=0.9 might be a better approx than gravb_bol=0.32.\n",
      "Wed, 24 Mar 2021 19:28 BUNDLE       WARNING 'primary' probably has a radiative atm (teff=8498K>=8000K), for which irrad_frac_refl_bol>0.8 (suggestion: 1.0) might be a better approx than irrad_frac_refl_bol=0.60.\n",
      "Wed, 24 Mar 2021 19:28 BUNDLE       WARNING 'secondary' probably has a radiative atm (teff=8667K>=8000K), for which irrad_frac_refl_bol>0.8 (suggestion: 1.0) might be a better approx than irrad_frac_refl_bol=0.60.\n",
      "Wed, 24 Mar 2021 19:28 BUNDLE       WARNING 'primary' probably has a radiative atm (teff=8498K>8000K), for which gravb_bol>=0.9 might be a better approx than gravb_bol=0.32.\n",
      "Wed, 24 Mar 2021 19:28 BUNDLE       WARNING 'secondary' probably has a radiative atm (teff=8667K>8000K), for which gravb_bol>=0.9 might be a better approx than gravb_bol=0.32.\n",
      "Wed, 24 Mar 2021 19:28 BUNDLE       WARNING 'primary' probably has a radiative atm (teff=8498K>=8000K), for which irrad_frac_refl_bol>0.8 (suggestion: 1.0) might be a better approx than irrad_frac_refl_bol=0.60.\n",
      "Wed, 24 Mar 2021 19:28 BUNDLE       WARNING 'secondary' probably has a radiative atm (teff=8667K>=8000K), for which irrad_frac_refl_bol>0.8 (suggestion: 1.0) might be a better approx than irrad_frac_refl_bol=0.60.\n",
      "Wed, 24 Mar 2021 19:28 BUNDLE       WARNING 'primary' probably has a radiative atm (teff=8498K>8000K), for which gravb_bol>=0.9 might be a better approx than gravb_bol=0.32.\n",
      "Wed, 24 Mar 2021 19:28 BUNDLE       WARNING 'secondary' probably has a radiative atm (teff=8667K>8000K), for which gravb_bol>=0.9 might be a better approx than gravb_bol=0.32.\n",
      "Wed, 24 Mar 2021 19:28 BUNDLE       WARNING 'primary' probably has a radiative atm (teff=8498K>=8000K), for which irrad_frac_refl_bol>0.8 (suggestion: 1.0) might be a better approx than irrad_frac_refl_bol=0.60.\n",
      "Wed, 24 Mar 2021 19:28 BUNDLE       WARNING 'secondary' probably has a radiative atm (teff=8667K>=8000K), for which irrad_frac_refl_bol>0.8 (suggestion: 1.0) might be a better approx than irrad_frac_refl_bol=0.60.\n",
      "Wed, 24 Mar 2021 19:28 BUNDLE       WARNING 'primary' probably has a radiative atm (teff=8498K>8000K), for which gravb_bol>=0.9 might be a better approx than gravb_bol=0.32.\n",
      "Wed, 24 Mar 2021 19:28 BUNDLE       WARNING 'secondary' probably has a radiative atm (teff=8667K>8000K), for which gravb_bol>=0.9 might be a better approx than gravb_bol=0.32.\n",
      "Wed, 24 Mar 2021 19:28 BUNDLE       WARNING 'primary' probably has a radiative atm (teff=8498K>=8000K), for which irrad_frac_refl_bol>0.8 (suggestion: 1.0) might be a better approx than irrad_frac_refl_bol=0.60.\n",
      "Wed, 24 Mar 2021 19:28 BUNDLE       WARNING 'secondary' probably has a radiative atm (teff=8667K>=8000K), for which irrad_frac_refl_bol>0.8 (suggestion: 1.0) might be a better approx than irrad_frac_refl_bol=0.60.\n",
      "Wed, 24 Mar 2021 19:28 BUNDLE       WARNING overwriting model: latest\n",
      "Wed, 24 Mar 2021 19:28 BUNDLE       WARNING 'primary' probably has a radiative atm (teff=8498K>8000K), for which gravb_bol>=0.9 might be a better approx than gravb_bol=0.32.\n",
      "Wed, 24 Mar 2021 19:28 BUNDLE       WARNING 'secondary' probably has a radiative atm (teff=8667K>8000K), for which gravb_bol>=0.9 might be a better approx than gravb_bol=0.32.\n",
      "Wed, 24 Mar 2021 19:28 BUNDLE       WARNING 'primary' probably has a radiative atm (teff=8498K>=8000K), for which irrad_frac_refl_bol>0.8 (suggestion: 1.0) might be a better approx than irrad_frac_refl_bol=0.60.\n"
     ]
    },
    {
     "name": "stderr",
     "output_type": "stream",
     "text": [
      "Wed, 24 Mar 2021 19:28 BUNDLE       WARNING 'secondary' probably has a radiative atm (teff=8667K>=8000K), for which irrad_frac_refl_bol>0.8 (suggestion: 1.0) might be a better approx than irrad_frac_refl_bol=0.60.\n"
     ]
    },
    {
     "data": {
      "text/plain": [
       "<ParameterSet: 8 parameters | contexts: model, figure>"
      ]
     },
     "execution_count": 7,
     "metadata": {},
     "output_type": "execute_result"
    }
   ],
   "source": [
    "# Setting the value of the parameters in the parameter set. \n",
    "\n",
    "b.set_value('q', value=1.025)\n",
    "b.set_value('period', component='binary', value=42*u.day)\n",
    "b.set_value('sma', component='binary', value=0.395*u.AU)\n",
    "\n",
    "# b.set_value('incl', component='binary', value=5.52)\n",
    "b.set_value('incl', component='binary', value=90.) # Force eclipse # good value = 90\n",
    "\n",
    "b.set_value('requiv', component='primary', value=2.19)\n",
    "b.set_value('requiv', component='secondary', value=2.33)\n",
    "\n",
    "b.set_value('ecc', component='binary', value=0.8342)\n",
    "# b.set_value('ecc', component='binary', value=0.)\n",
    "\n",
    "b.set_value('teff', component='primary', value=8498)\n",
    "b.set_value('teff', component='secondary', value=8667)\n",
    "\n",
    "# b.set_value('gravb_bol@primary', 0.9)\n",
    "# b.set_value('gravb_bol@secondary', 0.9)\n",
    "\n",
    "b.add_dataset('lc', times = np.linspace(0,2*42,100))\n",
    "\n",
    "b.run_compute(irrad_method='none')\n",
    "#b.run_compute(irrad_method = 'wilson')"
   ]
  },
  {
   "cell_type": "code",
   "execution_count": 8,
   "metadata": {},
   "outputs": [
    {
     "data": {
      "image/png": "[encoded data removed]",
      "text/plain": [
       "<Figure size 432x288 with 1 Axes>"
      ]
     },
     "metadata": {
      "needs_background": "light"
     },
     "output_type": "display_data"
    }
   ],
   "source": [
    "# Ploting flux vs time.\n",
    "\n",
    "afig, mplfig = b['lc@model'].plot(show=True)"
   ]
  },
  {
   "cell_type": "code",
   "execution_count": 9,
   "metadata": {},
   "outputs": [
    {
     "data": {
      "image/png": "[encoded data removed]",
      "text/plain": [
       "<Figure size 432x288 with 1 Axes>"
      ]
     },
     "metadata": {
      "needs_background": "light"
     },
     "output_type": "display_data"
    }
   ],
   "source": [
    "# Plotting flux in each phase.\n",
    "\n",
    "afig, mplfig = b['lc@model'].plot(x='phases', show=True)"
   ]
  },
  {
   "cell_type": "code",
   "execution_count": null,
   "metadata": {},
   "outputs": [],
   "source": []
  },
  {
   "cell_type": "code",
   "execution_count": null,
   "metadata": {},
   "outputs": [],
   "source": []
  },
  {
   "cell_type": "code",
   "execution_count": null,
   "metadata": {},
   "outputs": [],
   "source": []
  }
 ],
 "metadata": {
  "kernelspec": {
   "display_name": "Python 3",
   "language": "python",
   "name": "python3"
  },
  "language_info": {
   "codemirror_mode": {
    "name": "ipython",
    "version": 3
   },
   "file_extension": ".py",
   "mimetype": "text/x-python",
   "name": "python",
   "nbconvert_exporter": "python",
   "pygments_lexer": "ipython3",
   "version": "3.7.3"
  }
 },
 "nbformat": 4,
 "nbformat_minor": 2
}
