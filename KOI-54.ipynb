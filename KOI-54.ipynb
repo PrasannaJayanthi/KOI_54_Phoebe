{
 "cells": [
  {
   "cell_type": "code",
   "execution_count": 1,
   "metadata": {},
   "outputs": [],
   "source": [
    "import phoebe\n",
    "from phoebe import u # units\n",
    "import numpy as np\n",
    "import matplotlib.pyplot as plt\n",
    "\n",
    "logger = phoebe.logger()\n",
    "\n",
    "b = phoebe.default_binary()"
   ]
  },
  {
   "cell_type": "code",
   "execution_count": 2,
   "metadata": {},
   "outputs": [
    {
     "name": "stdout",
     "output_type": "stream",
     "text": [
      "ParameterSet: 29 parameters\n",
      "            times@KOI_lc@dataset: [0.         0.00775194 0.01550388 ... 0.98449612\n",
      " 0.99224806 1.        ] d\n",
      "           fluxes@KOI_lc@dataset: [] W / m2\n",
      "         passband@KOI_lc@dataset: Johnson:V\n",
      "  intens_weighting@KOI_lc@dat...: energy\n",
      "*             ebv@KOI_lc@dataset: 0.0\n",
      "               Av@KOI_lc@dataset: 0.0\n",
      "               Rv@KOI_lc@dataset: 3.1\n",
      "    compute_times@KOI_lc@dataset: [] d\n",
      "*  compute_phases@KOI_lc@dataset: []\n",
      "  compute_phases_t0@KOI_lc@da...: t0_supconj\n",
      "           sigmas@KOI_lc@dataset: [] W / m2\n",
      "       pblum_mode@KOI_lc@dataset: component-coupled\n",
      "  pblum_component@KOI_lc@dataset: primary\n",
      "    pblum_dataset@KOI_lc@dataset: \n",
      "           pbflux@KOI_lc@dataset: 1.0 W / m2\n",
      "          l3_mode@KOI_lc@dataset: flux\n",
      "               l3@KOI_lc@dataset: 0.0 W / m2\n",
      "          l3_frac@KOI_lc@dataset: 0.0\n",
      "          exptime@KOI_lc@dataset: 0.0 s\n",
      "  ld_mode@primary@KOI_lc@dataset: interp\n",
      "  ld_mode@secondary@KOI_lc@da...: interp\n",
      "  ld_func@primary@KOI_lc@dataset: logarithmic\n",
      "  ld_func@secondary@KOI_lc@da...: logarithmic\n",
      "  ld_coeffs_source@primary@KO...: auto\n",
      "  ld_coeffs_source@secondary@...: auto\n",
      "  ld_coeffs@primary@KOI_lc@da...: [0.5 0.5]\n",
      "  ld_coeffs@secondary@KOI_lc@...: [0.5 0.5]\n",
      "    pblum@primary@KOI_lc@dataset: 12.566370614359172 W\n",
      "  pblum@secondary@KOI_lc@dataset: 12.566370614359172 W\n"
     ]
    }
   ],
   "source": [
    "#b.add_dataset('KOI_lc')\n",
    "\n",
    "b.add_dataset('lc', times = np.linspace(0,1,130), dataset = 'KOI_lc')\n",
    "print(b.get_dataset(kind = 'lc', check_visible = False))"
   ]
  },
  {
   "cell_type": "code",
   "execution_count": 3,
   "metadata": {},
   "outputs": [
    {
     "data": {
      "text/plain": [
       "<ParameterSet: 4 parameters | contexts: figure, model>"
      ]
     },
     "execution_count": 3,
     "metadata": {},
     "output_type": "execute_result"
    }
   ],
   "source": [
    "b.run_compute(irrad_method = 'wilson')"
   ]
  },
  {
   "cell_type": "code",
   "execution_count": 17,
   "metadata": {},
   "outputs": [
    {
     "name": "stderr",
     "output_type": "stream",
     "text": [
      "Tue, 09 Mar 2021 10:45 BUNDLE       WARNING secondary is overflowing at periastron (requiv=2.33, requiv_max=1.0886239130649273).  Use contact model if overflowing is desired.  If not addressed, this warning will continue to be raised and will throw an error at run_compute.\n",
      "Tue, 09 Mar 2021 10:45 BUNDLE       WARNING 'primary' probably has a radiative atm (teff=8498K>8000K), for which gravb_bol>=0.9 might be a better approx than gravb_bol=0.25.\n",
      "Tue, 09 Mar 2021 10:45 BUNDLE       WARNING 'secondary' probably has a radiative atm (teff=8667K>8000K), for which gravb_bol>=0.9 might be a better approx than gravb_bol=0.32.\n",
      "Tue, 09 Mar 2021 10:45 BUNDLE       WARNING 'primary' probably has a radiative atm (teff=8498K>=8000K), for which irrad_frac_refl_bol>0.8 (suggestion: 1.0) might be a better approx than irrad_frac_refl_bol=0.60.\n",
      "Tue, 09 Mar 2021 10:45 BUNDLE       WARNING 'secondary' probably has a radiative atm (teff=8667K>=8000K), for which irrad_frac_refl_bol>0.8 (suggestion: 1.0) might be a better approx than irrad_frac_refl_bol=0.60.\n",
      "Tue, 09 Mar 2021 10:45 BUNDLE       WARNING secondary is overflowing at periastron (requiv=2.33, requiv_max=1.0886239130649273).  Use contact model if overflowing is desired.  If not addressed, this warning will continue to be raised and will throw an error at run_compute.\n",
      "Tue, 09 Mar 2021 10:45 BUNDLE       WARNING 'primary' probably has a radiative atm (teff=8498K>8000K), for which gravb_bol>=0.9 might be a better approx than gravb_bol=0.25.\n",
      "Tue, 09 Mar 2021 10:45 BUNDLE       WARNING 'secondary' probably has a radiative atm (teff=8667K>8000K), for which gravb_bol>=0.9 might be a better approx than gravb_bol=0.32.\n",
      "Tue, 09 Mar 2021 10:45 BUNDLE       WARNING 'primary' probably has a radiative atm (teff=8498K>=8000K), for which irrad_frac_refl_bol>0.8 (suggestion: 1.0) might be a better approx than irrad_frac_refl_bol=0.60.\n",
      "Tue, 09 Mar 2021 10:45 BUNDLE       WARNING 'secondary' probably has a radiative atm (teff=8667K>=8000K), for which irrad_frac_refl_bol>0.8 (suggestion: 1.0) might be a better approx than irrad_frac_refl_bol=0.60.\n",
      "Tue, 09 Mar 2021 10:45 BUNDLE       WARNING secondary is overflowing at periastron (requiv=2.33, requiv_max=1.0886239130649273).  Use contact model if overflowing is desired.  If not addressed, this warning will continue to be raised and will throw an error at run_compute.\n",
      "Tue, 09 Mar 2021 10:45 BUNDLE       WARNING 'primary' probably has a radiative atm (teff=8498K>8000K), for which gravb_bol>=0.9 might be a better approx than gravb_bol=0.25.\n",
      "Tue, 09 Mar 2021 10:45 BUNDLE       WARNING 'secondary' probably has a radiative atm (teff=8667K>8000K), for which gravb_bol>=0.9 might be a better approx than gravb_bol=0.32.\n",
      "Tue, 09 Mar 2021 10:45 BUNDLE       WARNING 'primary' probably has a radiative atm (teff=8498K>=8000K), for which irrad_frac_refl_bol>0.8 (suggestion: 1.0) might be a better approx than irrad_frac_refl_bol=0.60.\n",
      "Tue, 09 Mar 2021 10:45 BUNDLE       WARNING 'secondary' probably has a radiative atm (teff=8667K>=8000K), for which irrad_frac_refl_bol>0.8 (suggestion: 1.0) might be a better approx than irrad_frac_refl_bol=0.60.\n",
      "Tue, 09 Mar 2021 10:45 BUNDLE       WARNING secondary is overflowing at periastron (requiv=2.33, requiv_max=1.0886239130649273).  Use contact model if overflowing is desired.  If not addressed, this warning will continue to be raised and will throw an error at run_compute.\n",
      "Tue, 09 Mar 2021 10:45 BUNDLE       WARNING 'primary' probably has a radiative atm (teff=8498K>8000K), for which gravb_bol>=0.9 might be a better approx than gravb_bol=0.25.\n",
      "Tue, 09 Mar 2021 10:45 BUNDLE       WARNING 'secondary' probably has a radiative atm (teff=8667K>8000K), for which gravb_bol>=0.9 might be a better approx than gravb_bol=0.32.\n",
      "Tue, 09 Mar 2021 10:45 BUNDLE       WARNING 'primary' probably has a radiative atm (teff=8498K>=8000K), for which irrad_frac_refl_bol>0.8 (suggestion: 1.0) might be a better approx than irrad_frac_refl_bol=0.60.\n",
      "Tue, 09 Mar 2021 10:45 BUNDLE       WARNING 'secondary' probably has a radiative atm (teff=8667K>=8000K), for which irrad_frac_refl_bol>0.8 (suggestion: 1.0) might be a better approx than irrad_frac_refl_bol=0.60.\n",
      "Tue, 09 Mar 2021 10:45 BUNDLE       WARNING secondary is overflowing at periastron (requiv=2.33, requiv_max=1.0886239130649273).  Use contact model if overflowing is desired.  If not addressed, this warning will continue to be raised and will throw an error at run_compute.\n",
      "Tue, 09 Mar 2021 10:45 BUNDLE       WARNING 'primary' probably has a radiative atm (teff=8498K>8000K), for which gravb_bol>=0.9 might be a better approx than gravb_bol=0.25.\n",
      "Tue, 09 Mar 2021 10:45 BUNDLE       WARNING 'secondary' probably has a radiative atm (teff=8667K>8000K), for which gravb_bol>=0.9 might be a better approx than gravb_bol=0.32.\n",
      "Tue, 09 Mar 2021 10:45 BUNDLE       WARNING 'primary' probably has a radiative atm (teff=8498K>=8000K), for which irrad_frac_refl_bol>0.8 (suggestion: 1.0) might be a better approx than irrad_frac_refl_bol=0.60.\n",
      "Tue, 09 Mar 2021 10:45 BUNDLE       WARNING 'secondary' probably has a radiative atm (teff=8667K>=8000K), for which irrad_frac_refl_bol>0.8 (suggestion: 1.0) might be a better approx than irrad_frac_refl_bol=0.60.\n",
      "Tue, 09 Mar 2021 10:45 BUNDLE       WARNING 'primary' probably has a radiative atm (teff=8498K>8000K), for which gravb_bol>=0.9 might be a better approx than gravb_bol=0.25.\n",
      "Tue, 09 Mar 2021 10:45 BUNDLE       WARNING 'secondary' probably has a radiative atm (teff=8667K>8000K), for which gravb_bol>=0.9 might be a better approx than gravb_bol=0.32.\n",
      "Tue, 09 Mar 2021 10:45 BUNDLE       WARNING 'primary' probably has a radiative atm (teff=8498K>=8000K), for which irrad_frac_refl_bol>0.8 (suggestion: 1.0) might be a better approx than irrad_frac_refl_bol=0.60.\n",
      "Tue, 09 Mar 2021 10:45 BUNDLE       WARNING 'secondary' probably has a radiative atm (teff=8667K>=8000K), for which irrad_frac_refl_bol>0.8 (suggestion: 1.0) might be a better approx than irrad_frac_refl_bol=0.60.\n",
      "Tue, 09 Mar 2021 10:45 BUNDLE       WARNING 'primary' probably has a radiative atm (teff=8498K>8000K), for which gravb_bol>=0.9 might be a better approx than gravb_bol=0.25.\n",
      "Tue, 09 Mar 2021 10:45 BUNDLE       WARNING 'secondary' probably has a radiative atm (teff=8667K>8000K), for which gravb_bol>=0.9 might be a better approx than gravb_bol=0.32.\n",
      "Tue, 09 Mar 2021 10:45 BUNDLE       WARNING 'primary' probably has a radiative atm (teff=8498K>=8000K), for which irrad_frac_refl_bol>0.8 (suggestion: 1.0) might be a better approx than irrad_frac_refl_bol=0.60.\n",
      "Tue, 09 Mar 2021 10:45 BUNDLE       WARNING 'secondary' probably has a radiative atm (teff=8667K>=8000K), for which irrad_frac_refl_bol>0.8 (suggestion: 1.0) might be a better approx than irrad_frac_refl_bol=0.60.\n",
      "Tue, 09 Mar 2021 10:45 BUNDLE       WARNING 'primary' probably has a radiative atm (teff=8498K>8000K), for which gravb_bol>=0.9 might be a better approx than gravb_bol=0.25.\n",
      "Tue, 09 Mar 2021 10:45 BUNDLE       WARNING 'secondary' probably has a radiative atm (teff=8667K>8000K), for which gravb_bol>=0.9 might be a better approx than gravb_bol=0.32.\n",
      "Tue, 09 Mar 2021 10:45 BUNDLE       WARNING 'primary' probably has a radiative atm (teff=8498K>=8000K), for which irrad_frac_refl_bol>0.8 (suggestion: 1.0) might be a better approx than irrad_frac_refl_bol=0.60.\n",
      "Tue, 09 Mar 2021 10:45 BUNDLE       WARNING 'secondary' probably has a radiative atm (teff=8667K>=8000K), for which irrad_frac_refl_bol>0.8 (suggestion: 1.0) might be a better approx than irrad_frac_refl_bol=0.60.\n"
     ]
    }
   ],
   "source": [
    "# Primary\n",
    "#b.set_value('mass@primary@star@component', 2.33)\n",
    "b.set_value('teff@primary', 8498)\n",
    "b.set_value('requiv@primary', 0.5)                 # (r_1 = 2.20)\n",
    "b.set_value('gravb_bol@primary', 0.25)\n",
    "\n",
    "# Secondary\n",
    "#b.set_value('mass@secondary', 2.39)\n",
    "b.set_value('teff@secondary', 8667)\n",
    "b.set_value('requiv@secondary', 0.5)               # (r_2 = 2.33)\n",
    "\n",
    "b.set_value('q@binary', 0.1)                       # (q = 1.034, RV Fit)\n",
    "\n",
    "# b['teff@primary'] = 8498 \n",
    "# b['requiv@primary'] = 2.33\n",
    "# b['gravb_bol@primary'] = 0.25\n",
    "\n",
    "# b['teff@secondary'] = 8667\n",
    "# b['requiv@secondary'] = 2.20\n",
    "\n",
    "# b['q@binary'] = 1.034\n",
    "\n",
    "# b.flip_constraint('mass@primary', solve_for='sma@binary')\n",
    "# b['mass@primary'] = 2.33\n",
    "# print(b.filter(qualifier=['mass', 'requiv', 'teff'], context='component'))"
   ]
  },
  {
   "cell_type": "code",
   "execution_count": 7,
   "metadata": {},
   "outputs": [],
   "source": [
    "# b['irrad_frac_refl_bol@primary'] = 1.0\n",
    "# b['irrad_frac_refl_bol@secondary'] = 0.6"
   ]
  },
  {
   "cell_type": "code",
   "execution_count": 8,
   "metadata": {},
   "outputs": [],
   "source": [
    "# b['eclipse_method'] = 'only_horizon'"
   ]
  },
  {
   "cell_type": "code",
   "execution_count": 9,
   "metadata": {},
   "outputs": [],
   "source": [
    "# phases = phoebe.linspace(0,1,101)\n",
    "# b.add_dataset('lc', times=b.to_time(phases))"
   ]
  },
  {
   "cell_type": "code",
   "execution_count": 15,
   "metadata": {},
   "outputs": [
    {
     "data": {
      "image/png": "[encoded data removed]",
      "text/plain": [
       "<Figure size 432x288 with 1 Axes>"
      ]
     },
     "metadata": {
      "needs_background": "light"
     },
     "output_type": "display_data"
    }
   ],
   "source": [
    "afig, mplfig = b['lc@model'].plot(show=True)"
   ]
  },
  {
   "cell_type": "code",
   "execution_count": 16,
   "metadata": {},
   "outputs": [
    {
     "data": {
      "image/png": "[encoded data removed]",
      "text/plain": [
       "<Figure size 432x288 with 1 Axes>"
      ]
     },
     "metadata": {
      "needs_background": "light"
     },
     "output_type": "display_data"
    }
   ],
   "source": [
    "afig, mplfig = b['lc@model'].plot(x='phases', show=True)"
   ]
  },
  {
   "cell_type": "code",
   "execution_count": 29,
   "metadata": {},
   "outputs": [],
   "source": [
    "# Different Method\n",
    "\n",
    "# b = phoebe.default_binary()\n",
    "# b.set_value('q', value=0.75)\n",
    "# b.add_dataset('lc', times = phoebe.linespace(0,2,101))\n",
    "# b.add_dataset('rv', times = phoebe.linespace(0,2,101))\n",
    "# b.run_compute()\n",
    "# b.polt(x = 'phases', show = True)"
   ]
  },
  {
   "cell_type": "code",
   "execution_count": null,
   "metadata": {},
   "outputs": [],
   "source": []
  }
 ],
 "metadata": {
  "kernelspec": {
   "display_name": "Python 3",
   "language": "python",
   "name": "python3"
  },
  "language_info": {
   "codemirror_mode": {
    "name": "ipython",
    "version": 3
   },
   "file_extension": ".py",
   "mimetype": "text/x-python",
   "name": "python",
   "nbconvert_exporter": "python",
   "pygments_lexer": "ipython3",
   "version": "3.7.3"
  }
 },
 "nbformat": 4,
 "nbformat_minor": 2
}
